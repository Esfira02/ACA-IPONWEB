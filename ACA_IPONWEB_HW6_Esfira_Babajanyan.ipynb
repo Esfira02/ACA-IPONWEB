{
 "cells": [
  {
   "cell_type": "markdown",
   "metadata": {},
   "source": [
    "ACA/Iponweb Homework 6 Esfira Babajanyan\n"
   ]
  },
  {
   "cell_type": "code",
   "execution_count": 58,
   "metadata": {},
   "outputs": [],
   "source": [
    "#I recreated Date,Time, Person, Job, Company  classes since in my last homework\n",
    "#the logic and functionality was not a good one\n",
    "MONTHS = 12\n",
    "\n",
    "class InvalidDateException(Exception):\n",
    "    def __init__(self, value, message):\n",
    "        self._value = value\n",
    "        self._message = message\n",
    "        super().__init__(f\"{message}: f{value}\")\n",
    "\n",
    "class Date:    \n",
    "    def __init__(self, day, month, year):\n",
    "        if not (0 < day <= 31):\n",
    "            raise InvalidDateException(day, \"Invalid day value\")\n",
    "        if not (0 < month <= 12):\n",
    "            raise InvalidDateException(month, \"Invalid day value\")\n",
    "            \n",
    "        self._day = day\n",
    "        self._month = month\n",
    "        self._year = year\n",
    "        \n",
    "    def __repr__(self):\n",
    "        return f\"{self._day}.{self._month}.{self._year}\"\n",
    "        \n",
    "    def is_leap(self):\n",
    "        return (self._year % 400 == 0) or (self._year % 100 != 0 and self._year % 4 == 0)\n",
    "    \n",
    "    \n",
    "    def add_year(self, years):\n",
    "        self._years += years\n",
    "    \n",
    "    \n",
    "    def add_month(self, months):\n",
    "        self._month += (months % MONTHS)\n",
    "        self._year += (months // MONTHS)\n",
    "        \n",
    "        if(self._month > 12):\n",
    "            self._year += 1\n",
    "            self._month = self._month % 12\n",
    "    \n",
    "    \n",
    "    def add_day(self, days):\n",
    "        num_days = [31,28,31,30,31,30,31,31,30,31,30,31]\n",
    "        if(self.is_leap()):\n",
    "            num_days[1] = 29\n",
    "            \n",
    "        while(days > 0):\n",
    "            if(days >= num_days[self._month - 1]):\n",
    "                days -= num_days[self._month - 1]\n",
    "                self.add_month(1)\n",
    "            else:\n",
    "                self._day += days\n",
    "                days -= days\n",
    "                if(self._day > num_days[self._month-1]):\n",
    "                    self._day = self._day % num_days[self._month - 1]\n",
    "                    self.add_month(1)\n",
    "        "
   ]
  },
  {
   "cell_type": "code",
   "execution_count": 2,
   "metadata": {},
   "outputs": [
    {
     "data": {
      "text/plain": [
       "29.1.2023"
      ]
     },
     "execution_count": 2,
     "metadata": {},
     "output_type": "execute_result"
    }
   ],
   "source": [
    "date = Date(29,1,2023)\n",
    "date"
   ]
  },
  {
   "cell_type": "code",
   "execution_count": 3,
   "metadata": {},
   "outputs": [
    {
     "name": "stdout",
     "output_type": "stream",
     "text": [
      "10.3.2027\n"
     ]
    }
   ],
   "source": [
    "date.add_day(1500)\n",
    "print(date)"
   ]
  },
  {
   "cell_type": "code",
   "execution_count": 4,
   "metadata": {},
   "outputs": [],
   "source": [
    "class Time:\n",
    "    def __init__(self, second, minute, hour):\n",
    "        self._second = second\n",
    "        self._minute = minute\n",
    "        self._hour = hour\n",
    "        \n",
    "    def __repr__(self):\n",
    "        return f\"{self._hour}:{self._minute}:{self._second}\"\n",
    "            \n",
    "    def add_hour(self, hours):\n",
    "        self._hour += hours\n",
    "        new_days = self._hour // 24\n",
    "        self._hour = self._hour % 24\n",
    "        return new_days\n",
    "            \n",
    "    def add_minute(self, minutes):\n",
    "        self._minute += minutes\n",
    "        self._hour += self._minute // 60\n",
    "        self._minute = self._minute % 60\n",
    "              \n",
    "    def add_second(self, seconds):\n",
    "        self._second += seconds\n",
    "        self.add_minute(self._second // 60)\n",
    "        self._second = self._second % 60\n",
    "    \n",
    "    def sum(self, other):\n",
    "        self.add_second(other._second)\n",
    "        self.add_minute(other._minute)\n",
    "        self.add_hour(other._hour)\n",
    "        return self"
   ]
  },
  {
   "cell_type": "code",
   "execution_count": 5,
   "metadata": {},
   "outputs": [],
   "source": [
    "time = Time(20,34,17)"
   ]
  },
  {
   "cell_type": "code",
   "execution_count": 6,
   "metadata": {},
   "outputs": [],
   "source": [
    "time1 = Time(43,43,6)"
   ]
  },
  {
   "cell_type": "code",
   "execution_count": 7,
   "metadata": {},
   "outputs": [
    {
     "name": "stdout",
     "output_type": "stream",
     "text": [
      "17:34:20 6:43:43\n"
     ]
    }
   ],
   "source": [
    "print(time,time1)"
   ]
  },
  {
   "cell_type": "code",
   "execution_count": 8,
   "metadata": {},
   "outputs": [
    {
     "name": "stdout",
     "output_type": "stream",
     "text": [
      "0:18:3\n"
     ]
    }
   ],
   "source": [
    "print(time.sum(time1))"
   ]
  },
  {
   "cell_type": "code",
   "execution_count": 9,
   "metadata": {},
   "outputs": [
    {
     "name": "stdout",
     "output_type": "stream",
     "text": [
      "6:44:3\n"
     ]
    }
   ],
   "source": [
    "time1.add_second(20)\n",
    "print(time1)"
   ]
  },
  {
   "cell_type": "code",
   "execution_count": 10,
   "metadata": {},
   "outputs": [],
   "source": [
    "class DateTime():\n",
    "    def __init__(self, date, time):\n",
    "        self._date = date\n",
    "        self._time = time\n",
    "        \n",
    "    def __repr__(self):\n",
    "        return f\"{self.date} {self.time}\"\n",
    "    \n",
    "    @property\n",
    "    def date(self):\n",
    "        return self._date\n",
    "    \n",
    "    @date.setter\n",
    "    def date(self, val):\n",
    "        self._date = val\n",
    "        \n",
    "    @property\n",
    "    def time(self):\n",
    "        return self._time\n",
    "    \n",
    "    @time.setter\n",
    "    def time(self, val):\n",
    "        self._time = val\n",
    "    \n",
    "    def add_year(self, years):\n",
    "        self._date.add_year(years)\n",
    "        \n",
    "    def add_month(self, months):\n",
    "        self._date.add_month(months)\n",
    "        \n",
    "    def add_day(self, days):\n",
    "        self._date.add_day(days)\n",
    "    \n",
    "    def add_hour(self, hours):\n",
    "        new_days = self._time.add_hour(hours)\n",
    "        self.add_day(new_days)\n",
    "    \n",
    "    def add_minute(self,minutes):\n",
    "        self._time.add_minute(minutes)\n",
    "    \n",
    "    def add_second(self, seconds):\n",
    "        self._time.add_second(seconds)\n",
    "        "
   ]
  },
  {
   "cell_type": "code",
   "execution_count": 11,
   "metadata": {},
   "outputs": [
    {
     "name": "stdout",
     "output_type": "stream",
     "text": [
      "29.1.2023\n"
     ]
    }
   ],
   "source": [
    "date1 = Date(29, 1, 2023)\n",
    "print(date1)  "
   ]
  },
  {
   "cell_type": "code",
   "execution_count": 12,
   "metadata": {},
   "outputs": [
    {
     "name": "stdout",
     "output_type": "stream",
     "text": [
      "23:40:40\n"
     ]
    }
   ],
   "source": [
    "time1 =  Time(40,40,23)\n",
    "print(time1)"
   ]
  },
  {
   "cell_type": "code",
   "execution_count": 13,
   "metadata": {},
   "outputs": [
    {
     "name": "stdout",
     "output_type": "stream",
     "text": [
      "29.1.2023 23:40:40\n"
     ]
    }
   ],
   "source": [
    "datetime = DateTime(date1, time1)\n",
    "print(datetime)"
   ]
  },
  {
   "cell_type": "code",
   "execution_count": 14,
   "metadata": {},
   "outputs": [],
   "source": [
    "datetime.add_hour(50)"
   ]
  },
  {
   "cell_type": "code",
   "execution_count": 15,
   "metadata": {},
   "outputs": [
    {
     "name": "stdout",
     "output_type": "stream",
     "text": [
      "1.2.2023 1:40:40\n"
     ]
    }
   ],
   "source": [
    "print(datetime)"
   ]
  },
  {
   "cell_type": "code",
   "execution_count": 16,
   "metadata": {},
   "outputs": [],
   "source": [
    "exchange = {\"AMD\":1, \"RUB\":5.8, \"USD\":400, \"EUR\":430}\n",
    "\n",
    "class Money:    \n",
    "    def __init__(self, amount, currency):\n",
    "        self._amount = amount\n",
    "        self._currency = currency\n",
    "    \n",
    "    def __repr__(self):\n",
    "        return f\"{self._amount} {self._currency}\"\n",
    "    \n",
    "    @property\n",
    "    def amount(self):\n",
    "        return self._amount\n",
    "    \n",
    "    @amount.setter\n",
    "    def amount(self, val):\n",
    "        self._amount = val\n",
    "    \n",
    "    @property\n",
    "    def currency(self):\n",
    "        return self._currency\n",
    "    \n",
    "    @currency.setter\n",
    "    def currency(self, val):\n",
    "        if val in exchange.keys():\n",
    "            self._currency = val\n",
    "        else:\n",
    "            raise ValueError(\"Currency must be AMD, RUB, USD or EUR.\")\n",
    "        \n",
    "    def conversion(self, currency):\n",
    "        return self._amount*exchange[currency]\n",
    "        \n",
    "            \n",
    "    def __add__(self, other):\n",
    "        self_amd = self.conversion(self._currency)\n",
    "        other_amd = other.conversion(other._currency)\n",
    "        return self_amd + other_amd \n",
    "        \n",
    "    def __sub__(self, other):\n",
    "        self_amd = self.conversion(self._currency)\n",
    "        other_amd = other.conversion(other._currency)\n",
    "        return self_amd - other_amd \n",
    "    \n",
    "    def __truediv__(self,other):\n",
    "        self_amd = self.conversion(self._currency)\n",
    "        other_amd = other.conversion(other._currency)\n",
    "        return self_amd / other_amd\n",
    "    \n",
    "    def __eq__(self,other):\n",
    "        self_amd = self.conversion(self._currency)\n",
    "        other_amd = other.conversion(other._currency)\n",
    "        if self_amd == other_amd:\n",
    "            return True\n",
    "        else:\n",
    "            return False\n",
    "        \n",
    "    def __ne__(self,other):\n",
    "        self_amd = self.conversion(self._currency)\n",
    "        other_amd = other.conversion(other._currency)\n",
    "        if self_amd != other_amd:\n",
    "            return True\n",
    "        else:\n",
    "            return False\n",
    "    \n",
    "    def __lt__(self, other):\n",
    "        self_amd = self.conversion(self._currency)\n",
    "        other_amd = other.conversion(other._currency)\n",
    "        if self_amd < other_amd:\n",
    "            return True\n",
    "        else:\n",
    "            return False\n",
    "    \n",
    "    def __gt__(self, other):\n",
    "        self_amd = self.conversion(self._currency)\n",
    "        other_amd = other.conversion(other._currency)\n",
    "        if self_amd > other_amd:\n",
    "            return True\n",
    "        else:\n",
    "            return False\n",
    "        \n",
    "    def __le__(self,other):\n",
    "        self_amd = self.conversion(self._currency)\n",
    "        other_amd = other.conversion(other._currency)\n",
    "        if self_amd <= other_amd:\n",
    "            return True\n",
    "        else:\n",
    "            return False\n",
    "    \n",
    "    def __ge__(self, other):\n",
    "        self_amd = self.conversion(self._currency)\n",
    "        other_amd = other.conversion(other._currency)\n",
    "        if self_amd >= other_amd:\n",
    "            return True\n",
    "        else:\n",
    "            return False\n",
    "        "
   ]
  },
  {
   "cell_type": "code",
   "execution_count": 17,
   "metadata": {},
   "outputs": [
    {
     "name": "stdout",
     "output_type": "stream",
     "text": [
      "3500 USD\n"
     ]
    }
   ],
   "source": [
    "money1 = Money(3500, \"USD\")\n",
    "print(money1)"
   ]
  },
  {
   "cell_type": "code",
   "execution_count": 18,
   "metadata": {},
   "outputs": [
    {
     "name": "stdout",
     "output_type": "stream",
     "text": [
      "340 EUR\n"
     ]
    }
   ],
   "source": [
    "money2 = Money(340, \"EUR\")\n",
    "print(money2)"
   ]
  },
  {
   "cell_type": "code",
   "execution_count": 19,
   "metadata": {},
   "outputs": [
    {
     "data": {
      "text/plain": [
       "1400000"
      ]
     },
     "execution_count": 19,
     "metadata": {},
     "output_type": "execute_result"
    }
   ],
   "source": [
    "money1.conversion(\"USD\")"
   ]
  },
  {
   "cell_type": "code",
   "execution_count": 20,
   "metadata": {},
   "outputs": [
    {
     "data": {
      "text/plain": [
       "146200"
      ]
     },
     "execution_count": 20,
     "metadata": {},
     "output_type": "execute_result"
    }
   ],
   "source": [
    "money2.conversion(\"EUR\")"
   ]
  },
  {
   "cell_type": "code",
   "execution_count": 21,
   "metadata": {},
   "outputs": [
    {
     "data": {
      "text/plain": [
       "1546200"
      ]
     },
     "execution_count": 21,
     "metadata": {},
     "output_type": "execute_result"
    }
   ],
   "source": [
    "money1+money2"
   ]
  },
  {
   "cell_type": "code",
   "execution_count": 22,
   "metadata": {},
   "outputs": [
    {
     "data": {
      "text/plain": [
       "True"
      ]
     },
     "execution_count": 22,
     "metadata": {},
     "output_type": "execute_result"
    }
   ],
   "source": [
    "money1 > money2"
   ]
  },
  {
   "cell_type": "code",
   "execution_count": 23,
   "metadata": {},
   "outputs": [
    {
     "data": {
      "text/plain": [
       "9.575923392612859"
      ]
     },
     "execution_count": 23,
     "metadata": {},
     "output_type": "execute_result"
    }
   ],
   "source": [
    "money1/money2"
   ]
  },
  {
   "cell_type": "code",
   "execution_count": 24,
   "metadata": {},
   "outputs": [],
   "source": [
    "class Company:\n",
    "    def __init__(self, company_name, founded_at, employee_count):\n",
    "        self._company_name = company_name\n",
    "        self._founded_at = founded_at\n",
    "        self._employee_count = employee_count\n",
    "    \n",
    "    def __repr__(self):\n",
    "        return f'{self._company_name},{self._founded_at}, {self._employee_count}'"
   ]
  },
  {
   "cell_type": "code",
   "execution_count": 25,
   "metadata": {},
   "outputs": [],
   "source": [
    "class Job: \n",
    "    def __init__(self, company,salary, experience_year, position):\n",
    "        self._company = company\n",
    "        self._salary = salary\n",
    "        self._experience_year = experience_year\n",
    "        self._poistion = poisition\n",
    "    \n",
    "    def __repr__(self):\n",
    "        return f'{self._position},{self._salary},{self._experience_year}'\n",
    "    \n",
    "    def change_salary(self, val):\n",
    "        self._salary = val\n",
    "        \n",
    "    def change_experience_year(self,val):\n",
    "        self._experience_year = val\n",
    "        \n",
    "    def change_position(self, val):\n",
    "        self._position = val"
   ]
  },
  {
   "cell_type": "code",
   "execution_count": 26,
   "metadata": {},
   "outputs": [],
   "source": [
    "class Person:\n",
    "    def __init__(self, name, surname, gender, age, address, friends = [], job = []):\n",
    "        self._name = name\n",
    "        self._surname = surname\n",
    "        self._gender = gender\n",
    "        self._age = age\n",
    "        self._address = address\n",
    "        self._friends = friends\n",
    "        self._job = job\n",
    "    \n",
    "    def __repr__(self):\n",
    "        return f'{self._name}, {self._surname}, {self._gender}, {self._address}, {self._friends}, {self._job}.'\n",
    "    \n",
    "    def add_friend(self, name):\n",
    "        self._friends.append(name)\n",
    "    \n",
    "    def remove_friend(self, name):\n",
    "        self._friends.remove(name)\n",
    "        \n",
    "    def add_job(self, position):\n",
    "        self._job.append(position)\n",
    "        self._job._company._employee_count += 1\n",
    "        \n",
    "    def remove_job(self, position):\n",
    "        self._job.remove(position)\n",
    "        self._job._company._employee_count -= 1\n",
    "    \n",
    "    def display_job(self):\n",
    "        print(f\"The jobs are {self.job}\")"
   ]
  },
  {
   "cell_type": "code",
   "execution_count": 27,
   "metadata": {},
   "outputs": [],
   "source": [
    "class Doctor(Person):\n",
    "    def __init__(self, name, surname, gender, age, address, department, profession, patronymic, salary, job= [], friends = []):\n",
    "        Person.__init__(self, name, surname, gender, age, address, friends, job)\n",
    "        self._department = department\n",
    "        self._profession = profession\n",
    "        self._patronymic = patronymic\n",
    "        self._salary = salary\n",
    "         \n",
    "    def __repr__(self):\n",
    "        return f\"Name - {self._name} {self._patronymic} {self._surname}, {self._gender}, {self._age}. Address - {self._address}. Department - {self._department}, {self._profession}. Salary - {self._salary}\" \n",
    "    \n",
    "    @property\n",
    "    def department(self):\n",
    "        return self._department\n",
    "    \n",
    "    @department.setter\n",
    "    def department(self, val):\n",
    "        self._department = val\n",
    "        \n",
    "    @property\n",
    "    def profession(self):\n",
    "        return self._profession\n",
    "    \n",
    "    @profession.setter\n",
    "    def profession(self, val):\n",
    "        self._profession = val\n",
    "    \n",
    "    @property\n",
    "    def patronymic(self):\n",
    "        return relf._patronymic\n",
    "    \n",
    "    @property\n",
    "    def salary(self):\n",
    "        return self._salary\n",
    "\n",
    "    @salary.setter\n",
    "    def salary(self, val):\n",
    "        self._salary = val\n",
    "    "
   ]
  },
  {
   "cell_type": "code",
   "execution_count": 28,
   "metadata": {},
   "outputs": [
    {
     "name": "stdout",
     "output_type": "stream",
     "text": [
      "Name - Tom Smith Johnson, male, 25. Address - 5th avenue. Department - Oncology, oncologyst. Salary - 5000\n"
     ]
    }
   ],
   "source": [
    "doctor = Doctor(\"Tom\", \"Johnson\", \"male\", 25, \"5th avenue\", \"Oncology\", \"oncologyst\", \"Smith\", 5000)\n",
    "print(doctor)"
   ]
  },
  {
   "cell_type": "code",
   "execution_count": 29,
   "metadata": {},
   "outputs": [
    {
     "name": "stdout",
     "output_type": "stream",
     "text": [
      "Name - Tom Smith Johnson, male, 25. Address - 5th avenue. Department - Oncology, oncologyst. Salary - 7000\n"
     ]
    }
   ],
   "source": [
    "doctor.salary = 7000\n",
    "print(doctor)"
   ]
  },
  {
   "cell_type": "code",
   "execution_count": 60,
   "metadata": {},
   "outputs": [],
   "source": [
    "class InvalidPopulationNumber(Exception):\n",
    "    def __init__(self, value, message):\n",
    "        self._value = value\n",
    "        self._message = message\n",
    "        super().__init__(f\"{message}: f{value}\")\n",
    "\n",
    "\n",
    "class City: \n",
    "    def __init__(self, name, mayor, population, language):\n",
    "        if population <= 0:\n",
    "            raise InvalidPopulationNumber(population, \"Population can't be negative\")\n",
    "        self._name = name\n",
    "        self._mayor = mayor\n",
    "        self._population = population\n",
    "        self._language = language\n",
    "    \n",
    "    def __repr__(self):\n",
    "        return f\"City name - {self._name}, mayor - {self._mayor}, population - {self._population}, language - {self._language}\"\n",
    "    \n",
    "    @property\n",
    "    def name(self):\n",
    "        return self._name\n",
    "    \n",
    "    @name.setter\n",
    "    def name(self, val):\n",
    "        self._name = val\n",
    "        \n",
    "    @property\n",
    "    def mayor(self):\n",
    "        return self._mayor\n",
    "    \n",
    "    @mayor.setter\n",
    "    def mayor(self, val):\n",
    "        self._mayor = val\n",
    "    \n",
    "    @property \n",
    "    def population(self):\n",
    "        return self._population\n",
    "    \n",
    "    @population.setter\n",
    "    def population(self, val):\n",
    "        self._population = val\n",
    "        \n",
    "    @property\n",
    "    def language(self):\n",
    "        return self._language\n",
    "\n",
    "    @language.setter\n",
    "    def language(self, val):\n",
    "        self._language = val\n",
    "    "
   ]
  },
  {
   "cell_type": "code",
   "execution_count": 61,
   "metadata": {},
   "outputs": [
    {
     "ename": "InvalidPopulationNumber",
     "evalue": "Population can't be negative: f-10",
     "output_type": "error",
     "traceback": [
      "\u001b[1;31m---------------------------------------------------------------------------\u001b[0m",
      "\u001b[1;31mInvalidPopulationNumber\u001b[0m                   Traceback (most recent call last)",
      "\u001b[1;32m<ipython-input-61-d71334f2fed5>\u001b[0m in \u001b[0;36m<module>\u001b[1;34m\u001b[0m\n\u001b[1;32m----> 1\u001b[1;33m \u001b[0mcity\u001b[0m \u001b[1;33m=\u001b[0m \u001b[0mCity\u001b[0m\u001b[1;33m(\u001b[0m\u001b[1;34m\"Error\"\u001b[0m\u001b[1;33m,\u001b[0m \u001b[1;34m\"Anonymous\"\u001b[0m\u001b[1;33m,\u001b[0m \u001b[1;33m-\u001b[0m\u001b[1;36m10\u001b[0m\u001b[1;33m,\u001b[0m \u001b[1;34m\"English\"\u001b[0m\u001b[1;33m)\u001b[0m\u001b[1;33m\u001b[0m\u001b[1;33m\u001b[0m\u001b[0m\n\u001b[0m",
      "\u001b[1;32m<ipython-input-60-30e454bbdc18>\u001b[0m in \u001b[0;36m__init__\u001b[1;34m(self, name, mayor, population, language)\u001b[0m\n\u001b[0;32m      9\u001b[0m     \u001b[1;32mdef\u001b[0m \u001b[0m__init__\u001b[0m\u001b[1;33m(\u001b[0m\u001b[0mself\u001b[0m\u001b[1;33m,\u001b[0m \u001b[0mname\u001b[0m\u001b[1;33m,\u001b[0m \u001b[0mmayor\u001b[0m\u001b[1;33m,\u001b[0m \u001b[0mpopulation\u001b[0m\u001b[1;33m,\u001b[0m \u001b[0mlanguage\u001b[0m\u001b[1;33m)\u001b[0m\u001b[1;33m:\u001b[0m\u001b[1;33m\u001b[0m\u001b[1;33m\u001b[0m\u001b[0m\n\u001b[0;32m     10\u001b[0m         \u001b[1;32mif\u001b[0m \u001b[0mpopulation\u001b[0m \u001b[1;33m<=\u001b[0m \u001b[1;36m0\u001b[0m\u001b[1;33m:\u001b[0m\u001b[1;33m\u001b[0m\u001b[1;33m\u001b[0m\u001b[0m\n\u001b[1;32m---> 11\u001b[1;33m             \u001b[1;32mraise\u001b[0m \u001b[0mInvalidPopulationNumber\u001b[0m\u001b[1;33m(\u001b[0m\u001b[0mpopulation\u001b[0m\u001b[1;33m,\u001b[0m \u001b[1;34m\"Population can't be negative\"\u001b[0m\u001b[1;33m)\u001b[0m\u001b[1;33m\u001b[0m\u001b[1;33m\u001b[0m\u001b[0m\n\u001b[0m\u001b[0;32m     12\u001b[0m         \u001b[0mself\u001b[0m\u001b[1;33m.\u001b[0m\u001b[0m_name\u001b[0m \u001b[1;33m=\u001b[0m \u001b[0mname\u001b[0m\u001b[1;33m\u001b[0m\u001b[1;33m\u001b[0m\u001b[0m\n\u001b[0;32m     13\u001b[0m         \u001b[0mself\u001b[0m\u001b[1;33m.\u001b[0m\u001b[0m_mayor\u001b[0m \u001b[1;33m=\u001b[0m \u001b[0mmayor\u001b[0m\u001b[1;33m\u001b[0m\u001b[1;33m\u001b[0m\u001b[0m\n",
      "\u001b[1;31mInvalidPopulationNumber\u001b[0m: Population can't be negative: f-10"
     ]
    }
   ],
   "source": [
    "city = City(\"Error\", \"Anonymous\", -10, \"English\")"
   ]
  },
  {
   "cell_type": "code",
   "execution_count": 31,
   "metadata": {},
   "outputs": [
    {
     "name": "stdout",
     "output_type": "stream",
     "text": [
      "City name - Yerevan, mayor - Hrachya Sargsyan, population - 1000000, language - Armenian\n"
     ]
    }
   ],
   "source": [
    "city = City(\"Yerevan\", \"Hrachya Sargsyan\", 1000000, \"Armenian\")\n",
    "print(city)"
   ]
  },
  {
   "cell_type": "code",
   "execution_count": 32,
   "metadata": {},
   "outputs": [],
   "source": [
    "class University:\n",
    "    def __init__(self, name, founded_at, rector, city):\n",
    "        self._name = name\n",
    "        self._founded_at = founded_at\n",
    "        self._rector = rector\n",
    "        self._city = city\n",
    "    \n",
    "    def __repr__(self):\n",
    "        return f\"{self._name} was founded {self._founded_at} in {self._city}, Rector is {self._rector}\"\n",
    "    \n",
    "    @property\n",
    "    def name(self):\n",
    "        return self._name\n",
    "    \n",
    "    @name.setter\n",
    "    def name(self, val):\n",
    "        self._name = val\n",
    "        \n",
    "    @property\n",
    "    def founded_at(self):\n",
    "        return self._founded_at\n",
    "    \n",
    "    @founded_at.setter\n",
    "    def founded_at(self, val):\n",
    "        self._founded_at = val\n",
    "        \n",
    "    @property\n",
    "    def rector(self):\n",
    "        return self._rector\n",
    "    \n",
    "    @rector.setter\n",
    "    def rector(self, val):\n",
    "        self._rector = val\n",
    "        \n",
    "    @property\n",
    "    def city(self):\n",
    "        return self._city\n",
    "    \n",
    "    @city.setter\n",
    "    def city(self, val):\n",
    "        self._city = val"
   ]
  },
  {
   "cell_type": "code",
   "execution_count": 33,
   "metadata": {},
   "outputs": [
    {
     "name": "stdout",
     "output_type": "stream",
     "text": [
      "AUA was founded 1991 in Yerevan, Rector is Kiureghian\n"
     ]
    }
   ],
   "source": [
    "university = University(\"AUA\", 1991, \"Kiureghian\", \"Yerevan\")\n",
    "print(university)"
   ]
  },
  {
   "cell_type": "code",
   "execution_count": 34,
   "metadata": {},
   "outputs": [],
   "source": [
    "class Teacher(Person):\n",
    "    def __init__(self, name, surname, gender, age, address, university, faculty, experience, start_work_at, subject, salary ,friends = [], job = []):\n",
    "        Person.__init__(self, name, surname, gender, age, address, friends, job)\n",
    "        self._university = university\n",
    "        self._faculty = faculty\n",
    "        self._experience = experience\n",
    "        self._start_work_at = start_work_at\n",
    "        self._subject = subject\n",
    "        self._salary = salary\n",
    "    \n",
    "    def __repr__(self):\n",
    "        return f\"{self._name} {self._surname} {self._gender} {self._age}. Address - {self._address}, uni - {self._university} {self._faculty}. Experience - {self._experience}, started - {self._start_work_at}. Sub - {self._subject} with salary - {self._salary}\"\n",
    "    \n",
    "    @property\n",
    "    def experience(self):\n",
    "        return self._experience\n",
    "    \n",
    "    @experience.setter\n",
    "    def experience(self, val):\n",
    "        self._experience = val\n",
    "        \n",
    "    @property\n",
    "    def start_work_at(self):\n",
    "        return self._start_work_at\n",
    "    \n",
    "    @start_work_at.setter\n",
    "    def start_work_at(self, val):\n",
    "        self._start_work_at = val\n",
    "        \n",
    "    @property\n",
    "    def faculty(self):\n",
    "        return self._faculty\n",
    "    \n",
    "    @faculty.setter\n",
    "    def faculty(self, val):\n",
    "        self._faculty = val\n",
    "        \n",
    "    @faculty.deleter\n",
    "    def faculty(self):\n",
    "        del self._faculty\n",
    "        \n",
    "    @property\n",
    "    def salary(self):\n",
    "        return self._salary\n",
    "    \n",
    "    @salary.setter\n",
    "    def salary(self, val):\n",
    "        self._alary = val\n",
    "        \n",
    "    @salary.deleter\n",
    "    def salary(self):\n",
    "        del self._salary\n"
   ]
  },
  {
   "cell_type": "code",
   "execution_count": 35,
   "metadata": {},
   "outputs": [
    {
     "name": "stdout",
     "output_type": "stream",
     "text": [
      "Narek Babajanyan male 26. Address - Avenu 5th, uni - AUA CS. Experience - 4, started - 30.1.2019. Sub - CompOrg with salary - 4000\n"
     ]
    }
   ],
   "source": [
    "date = Date(30,1,2019)\n",
    "teacher = Teacher(\"Narek\", \"Babajanyan\", \"male\", 26, \"Avenu 5th\", \"AUA\", \"CS\", 4, date, \"CompOrg\", 4000)\n",
    "print(teacher)"
   ]
  },
  {
   "cell_type": "code",
   "execution_count": 36,
   "metadata": {},
   "outputs": [],
   "source": [
    "class Student(Person):\n",
    "    def __init__(self, name, surname, gender, age, address, university, faculty, course, started_at, friends = [], job = []):\n",
    "        Person.__init__(self, name, surname, gender, age, address, friends, job)\n",
    "        self._university = university\n",
    "        self._faculty = faculty\n",
    "        self._course = course\n",
    "        self._started_at = started_at\n",
    "        \n",
    "    def __repr__(self):\n",
    "        return f\"{self._name} {self._surname} {self._gender} {self._age} {self._address}. Uni - {self._university}, {self._faculty}. {self._course}. Start - {self._started_at}\"\n",
    "    \n",
    "    @property\n",
    "    def university(self):\n",
    "        return self._universuty\n",
    "    \n",
    "    @university.setter\n",
    "    def university(self, val):\n",
    "        self._university = val\n",
    "        \n",
    "    @university.deleter\n",
    "    def university(self):\n",
    "        del self._university\n",
    "        \n",
    "    @property\n",
    "    def faculty(self):\n",
    "        return self._faculty\n",
    "    \n",
    "    @faculty.setter\n",
    "    def facultu(self, val):\n",
    "        self._faculty = val\n",
    "        \n",
    "    @faculty.deleter\n",
    "    def faculty(self):\n",
    "        del self._faculty\n",
    "        \n",
    "    @property\n",
    "    def course(self):\n",
    "        return self._course\n",
    "    \n",
    "    @course.setter\n",
    "    def course(self, val):\n",
    "        self._course = val\n",
    "        \n",
    "    @course.deleter\n",
    "    def course(self):\n",
    "        del self._course\n",
    "        \n",
    "    @property\n",
    "    def started_at(self):\n",
    "        return self._started_at\n",
    "    \n",
    "\n"
   ]
  },
  {
   "cell_type": "code",
   "execution_count": 37,
   "metadata": {},
   "outputs": [
    {
     "name": "stdout",
     "output_type": "stream",
     "text": [
      "Esfira Babajanyan Female 20 Avenue 5th. Uni - AUA, CSE. DS. Start - 26.8.2020\n"
     ]
    }
   ],
   "source": [
    "start = Date(26, 8, 2020)\n",
    "student = Student(\"Esfira\", \"Babajanyan\", \"Female\", 20, \"Avenue 5th\", \"AUA\", \"CSE\", \"DS\", start, \"Data\", [\"Nata\", \"Maga\"])\n",
    "print(student)"
   ]
  },
  {
   "cell_type": "code",
   "execution_count": 38,
   "metadata": {},
   "outputs": [
    {
     "name": "stdout",
     "output_type": "stream",
     "text": [
      "Esfira Babajanyan Female 20 Avenue 5th. Uni - AUA, CSE. CS. Start - 26.8.2020\n"
     ]
    }
   ],
   "source": [
    "student.course = \"CS\"\n",
    "print(student)"
   ]
  },
  {
   "cell_type": "code",
   "execution_count": 50,
   "metadata": {},
   "outputs": [],
   "source": [
    "class MyRange:\n",
    "    def __init__(self, current, end, step):\n",
    "        self._current = current\n",
    "        self._end = end\n",
    "        self._step = step\n",
    "    \n",
    "    def __repr__(self):\n",
    "        return f\"Current : {self._current}, end : {self._end}, step : {self._step}\"\n",
    "    \n",
    "    def __iter__(self):\n",
    "        return self\n",
    "    \n",
    "    def __len__(self):\n",
    "        self._end - self._current\n",
    "        \n",
    "    def __next__(self):\n",
    "        if (self._current >= self._end and self._step>0) or (self._current <= self._end and self._step<0):\n",
    "            raise StopIteration\n",
    "        else:\n",
    "            self._current += self._step\n",
    "        return self._current\n",
    "    \n",
    "    def __reversed__(self):\n",
    "        return MyRange(self._end, self._current, -1*self._step)"
   ]
  },
  {
   "cell_type": "code",
   "execution_count": 55,
   "metadata": {},
   "outputs": [
    {
     "name": "stdout",
     "output_type": "stream",
     "text": [
      "Current : 1, end : 10, step : 2\n"
     ]
    }
   ],
   "source": [
    "my_range = MyRange(1,10,2)\n",
    "print(my_range)"
   ]
  },
  {
   "cell_type": "code",
   "execution_count": 44,
   "metadata": {},
   "outputs": [
    {
     "name": "stdout",
     "output_type": "stream",
     "text": [
      "Current : 1, end : 10, step : -2\n"
     ]
    }
   ],
   "source": [
    "print(reversed(my_range))"
   ]
  },
  {
   "cell_type": "code",
   "execution_count": 56,
   "metadata": {},
   "outputs": [
    {
     "name": "stdout",
     "output_type": "stream",
     "text": [
      "3\n",
      "5\n",
      "7\n",
      "9\n",
      "11\n"
     ]
    }
   ],
   "source": [
    "for i in my_range:\n",
    "    print(i)"
   ]
  },
  {
   "cell_type": "code",
   "execution_count": null,
   "metadata": {},
   "outputs": [],
   "source": []
  }
 ],
 "metadata": {
  "kernelspec": {
   "display_name": "Python 3",
   "language": "python",
   "name": "python3"
  },
  "language_info": {
   "codemirror_mode": {
    "name": "ipython",
    "version": 3
   },
   "file_extension": ".py",
   "mimetype": "text/x-python",
   "name": "python",
   "nbconvert_exporter": "python",
   "pygments_lexer": "ipython3",
   "version": "3.8.5"
  }
 },
 "nbformat": 4,
 "nbformat_minor": 4
}
